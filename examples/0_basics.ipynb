{
 "cells": [
  {
   "cell_type": "code",
   "execution_count": 1,
   "metadata": {},
   "outputs": [
    {
     "name": "stderr",
     "output_type": "stream",
     "text": [
      "/Users/davidfitzek/miniforge3/envs/vqa/lib/python3.10/site-packages/beartype/_util/hint/pep/utilpeptest.py:345: BeartypeDecorHintPep585DeprecationWarning: PEP 484 type hint typing.List deprecated by PEP 585 scheduled for removal in the first Python version released after October 5th, 2025. To resolve this, import this hint from \"beartype.typing\" rather than \"typing\". See this discussion for further details and alternatives:\n",
      "    https://github.com/beartype/beartype#pep-585-deprecations\n",
      "  warn(\n",
      "/Users/davidfitzek/miniforge3/envs/vqa/lib/python3.10/site-packages/beartype/_util/hint/pep/utilpeptest.py:345: BeartypeDecorHintPep585DeprecationWarning: PEP 484 type hint typing.Tuple[numpy.ndarray, numpy.ndarray] deprecated by PEP 585 scheduled for removal in the first Python version released after October 5th, 2025. To resolve this, import this hint from \"beartype.typing\" rather than \"typing\". See this discussion for further details and alternatives:\n",
      "    https://github.com/beartype/beartype#pep-585-deprecations\n",
      "  warn(\n"
     ]
    }
   ],
   "source": [
    "import numpy as np\n",
    "import pennylane as qml\n",
    "from pennylane import AdamOptimizer\n",
    "from tqdm import tqdm\n",
    "from vqa import transforms\n",
    "from vqa.templates.examples import h2_vqe_circuit\n",
    "from vqa.templates.circuits import AbstractCircuit\n",
    "from vqa.utils.utils import get_approximation_ratio"
   ]
  },
  {
   "cell_type": "markdown",
   "metadata": {},
   "source": [
    "# Introduction\n",
    "\n",
    "To understand the workflow of the vqa library we start by solving the ground state estimation for H2. \n",
    "\n",
    "The steps the follwing: \n",
    "1. Load circuit template $\\ket{\\psi(\\theta)}$.\n",
    "2. Wrap it into a [QNode](https://docs.pennylane.ai/en/stable/code/api/pennylane.QNode.html), to generate an executable function that returns e.g. the expecation value $\\bra{\\psi(\\theta)} H \\ket{\\psi(\\theta)}$.\n",
    "3. Select an optimizer and optimize."
   ]
  },
  {
   "cell_type": "markdown",
   "metadata": {},
   "source": [
    "## The quantum circuit template class\n",
    "\n",
    "Each circuit template contains an executable circuit, the number of wires or qubits needed and an `init()` method. The `init()` returns the parameters to optimize. For reproducability purposes we can seed the `init()` method."
   ]
  },
  {
   "cell_type": "code",
   "execution_count": 2,
   "metadata": {},
   "outputs": [
    {
     "name": "stdout",
     "output_type": "stream",
     "text": [
      "converged SCF energy = -1.12606474197566\n"
     ]
    }
   ],
   "source": [
    "circuit = h2_vqe_circuit(num_layers=1)\n",
    "params = circuit.init(rng_key=0)"
   ]
  },
  {
   "cell_type": "markdown",
   "metadata": {},
   "source": [
    "## Creating a loss function for optimization\n",
    "\n",
    "Next we need to describe what observable we want to apply to the circuit. The most common approach is to calculate the expectation value such that $\\bra{\\psi(\\theta)} H \\ket{\\psi(\\theta)}$."
   ]
  },
  {
   "cell_type": "code",
   "execution_count": 3,
   "metadata": {},
   "outputs": [
    {
     "data": {
      "text/plain": [
       "tensor(-0.14651095, requires_grad=True)"
      ]
     },
     "execution_count": 3,
     "metadata": {},
     "output_type": "execute_result"
    }
   ],
   "source": [
    "fun = transforms.exp_val(circuit)  # this is our loss function!\n",
    "fun(params)"
   ]
  },
  {
   "cell_type": "markdown",
   "metadata": {},
   "source": [
    "or alternatively as it is common in Pennylane:"
   ]
  },
  {
   "cell_type": "code",
   "execution_count": 4,
   "metadata": {},
   "outputs": [
    {
     "data": {
      "text/plain": [
       "tensor(-0.14651095, requires_grad=True)"
      ]
     },
     "execution_count": 4,
     "metadata": {},
     "output_type": "execute_result"
    }
   ],
   "source": [
    "dev = qml.device(\"default.qubit\", wires=circuit.wires)\n",
    "\n",
    "\n",
    "@qml.qnode(dev)\n",
    "def circ(params):\n",
    "    circuit(params)\n",
    "    return qml.expval(circuit.H)\n",
    "\n",
    "\n",
    "circ(params)"
   ]
  },
  {
   "cell_type": "markdown",
   "metadata": {},
   "source": [
    "#### Alternative usage\n",
    "Alternatively, we can also implement our quantum circuit directly and avoid using the `AbstractCircuit` class. Note that you are required to provide the wires, the Hamiltonian and the parameters manually (This is a random circuit)."
   ]
  },
  {
   "cell_type": "code",
   "execution_count": 5,
   "metadata": {},
   "outputs": [],
   "source": [
    "def _circuit(params):\n",
    "    qml.RX(params[0], wires=0)\n",
    "    qml.RY(params[1], wires=1)\n",
    "    qml.CNOT(wires=[2, 1])\n",
    "    qml.RZ(params[2], wires=2)\n",
    "    qml.RX(params[3], wires=3)\n",
    "    qml.CNOT(wires=[0, 1])"
   ]
  },
  {
   "cell_type": "code",
   "execution_count": 6,
   "metadata": {},
   "outputs": [
    {
     "data": {
      "text/plain": [
       "tensor(0.99500417, requires_grad=True)"
      ]
     },
     "execution_count": 6,
     "metadata": {},
     "output_type": "execute_result"
    }
   ],
   "source": [
    "_params = np.array([0.1, 0.2, 0.3, 0.4])\n",
    "_qnode = transforms.exp_val(\n",
    "    _circuit, H=qml.PauliZ(0), wires=range(4)\n",
    ")  # this is our loss function!\n",
    "_qnode(_params)"
   ]
  },
  {
   "cell_type": "markdown",
   "metadata": {},
   "source": [
    "It should be evident now why the `AbstractCircuit` class is beneficial. It hides unnecessary details from the end user and allows fast prototyping for already implemented circuits."
   ]
  },
  {
   "cell_type": "markdown",
   "metadata": {},
   "source": [
    "## Optimizing the circuit\n",
    "\n",
    "Now we are ready to optimize the circuit. We need a loop to iterate between the classical optimizer and the quantum circuit. "
   ]
  },
  {
   "cell_type": "code",
   "execution_count": 7,
   "metadata": {},
   "outputs": [
    {
     "name": "stderr",
     "output_type": "stream",
     "text": [
      "100%|██████████| 100/100 [00:01<00:00, 50.99it/s]"
     ]
    },
    {
     "name": "stdout",
     "output_type": "stream",
     "text": [
      "Final energy: -0.526\n"
     ]
    },
    {
     "name": "stderr",
     "output_type": "stream",
     "text": [
      "\n"
     ]
    }
   ],
   "source": [
    "optimizer = AdamOptimizer(0.1)\n",
    "\n",
    "for i in tqdm(range(100)):\n",
    "    params = optimizer.step(fun, params)\n",
    "    exp_val = fun(params)\n",
    "\n",
    "print(f\"Final energy: {np.round(exp_val,3)}\")"
   ]
  },
  {
   "cell_type": "code",
   "execution_count": 8,
   "metadata": {},
   "outputs": [
    {
     "name": "stdout",
     "output_type": "stream",
     "text": [
      "Approximation ratio: 0.467\n"
     ]
    }
   ],
   "source": [
    "r = get_approximation_ratio(exp_val, circuit.ground_state_energy, 0)\n",
    "print(f\"Approximation ratio: {np.round(r, 3)}\")"
   ]
  }
 ],
 "metadata": {
  "kernelspec": {
   "display_name": "Python 3.10.6 ('vqa')",
   "language": "python",
   "name": "python3"
  },
  "language_info": {
   "codemirror_mode": {
    "name": "ipython",
    "version": 3
   },
   "file_extension": ".py",
   "mimetype": "text/x-python",
   "name": "python",
   "nbconvert_exporter": "python",
   "pygments_lexer": "ipython3",
   "version": "3.10.6"
  },
  "orig_nbformat": 4,
  "vscode": {
   "interpreter": {
    "hash": "23a1192c541ab84f6bb8596ddf275e4ffe2afe306cc45b2153ee66ad959326f6"
   }
  }
 },
 "nbformat": 4,
 "nbformat_minor": 2
}
